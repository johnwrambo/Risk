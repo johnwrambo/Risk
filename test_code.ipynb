{
 "cells": [
  {
   "metadata": {
    "ExecuteTime": {
     "end_time": "2025-03-28T19:13:57.855179Z",
     "start_time": "2025-03-28T19:13:56.259354Z"
    }
   },
   "cell_type": "code",
   "source": [
    "from RuleBook import GameData, game_data\n",
    "from Dice import BattleDice, battle_dice\n",
    "from RiskCards import deck, PlayerDeck\n",
    "from NameGenerator import brigade_name\n",
    "\n",
    "\n",
    "\n",
    "class Territory:\n",
    "    \"\"\"Class that defines a territory, owned by Map.\"\"\"\n",
    "\n",
    "    def __init__(self, territory_name: any, continent: str, color: str):\n",
    "        self.name = territory_name\n",
    "        self.title = self.name.title().replace(\"_\", \" \")\n",
    "        self.continent = continent\n",
    "        self.continent_title = self.continent.title().replace(\"_\", \" \")\n",
    "        self.color = color\n",
    "        self.garrison = None\n",
    "        self.who()\n",
    "\n",
    "    def __str__(self):\n",
    "        print_string = str(self.title)\n",
    "        return f\"{print_string} Territory\"\n",
    "\n",
    "    def __repr__(self):\n",
    "        return f\"<Territory Object:{self.name}>\"\n",
    "\n",
    "    def garrison_troops(self, brigade):\n",
    "        self.garrison = brigade\n",
    "\n",
    "    def info(self):\n",
    "        if not self.owner:\n",
    "            garrison = \"and is unoccupied.\"\n",
    "        else:\n",
    "            garrison = f\"and is controlled by Commander {self.owner} and holds a garrison of {self.garrison.size} troops.\"\n",
    "\n",
    "        info_string = f\"{self.title} is in {self.continent_title} {garrison}\"\n",
    "        return info_string\n",
    "\n",
    "    def who(self):\n",
    "        if self.garrison:\n",
    "            setattr(self, \"occupied_by\", self.garrison.commander)\n",
    "            return self\n",
    "            # f\"Occupied by {self.garrison.commander}'s {self.garrison.name}\"\n",
    "\n",
    "        else:\n",
    "            setattr(self, \"occupied_by\", None)\n",
    "            return self\n",
    "\n",
    "\n",
    "class Map:\n",
    "    \"\"\"Class that defines a map, owned by GameEngine.\"\"\"\n",
    "\n",
    "    def __init__(self):\n",
    "        self.continents = {}\n",
    "        self.territories = {}  # String finds territory object\n",
    "        self.connections = {}  # String finds connected objects\n",
    "\n",
    "\n",
    "class Brigade:\n",
    "    \"\"\"Brigade holds troop numbers for a given territory, owned by Army and territory\"\"\"\n",
    "\n",
    "    def __init__(self, size, mascot, commander, territory: Territory = None):\n",
    "        self.mascot = mascot\n",
    "        self.commander = commander\n",
    "        self.size = size\n",
    "        self.moves = 1\n",
    "        self.territory = territory\n",
    "        self.company = 1\n",
    "        self.total_casualties = 0\n",
    "        self.status_icon = game_data.emojis[\"infantry\"]\n",
    "        self.status = \"Alive\"\n",
    "\n",
    "    def die(self):\n",
    "        self.moves = 0\n",
    "        self.territory = None\n",
    "        self.status = \"Dead\"\n",
    "        self.status_icon = game_data.emojis[\"skull\"]\n",
    "\n",
    "    def split(self, detachment: int):\n",
    "        max_det = self.size-1\n",
    "        if self.size - detachment > 0:\n",
    "            self.take_casualties(detachment)\n",
    "            if self.company == 1:\n",
    "                suf = \"st\"\n",
    "            elif self.company == 2:\n",
    "                suf = \"nd\"\n",
    "            elif self.company == 3:\n",
    "                suf = \"rd\"\n",
    "            else:\n",
    "                suf = \"th\"\n",
    "            name = f\"{self.mascot} Brigade, 50{self.company}{suf} Co.\"\n",
    "            attack_brigade = Brigade(detachment, name, self.commander, self.territory)\n",
    "            self.company += 1\n",
    "            return attack_brigade\n",
    "        else:\n",
    "            raise ValueError(f\"Cannot detach that many troops, maximum detachment size is {max_det}\")\n",
    "            \n",
    "            \n",
    "    def take_casualties(self, troops_lost):\n",
    "        self.size -= troops_lost\n",
    "        self.total_casualties += troops_lost\n",
    "        return self\n",
    "\n",
    "    def reinforce(self, troops_gained):\n",
    "        self.size += troops_gained\n",
    "        return self\n",
    "\n",
    "    def locate(self, map):\n",
    "        map.territories.keys()\n",
    "\n",
    "    def __str__(self):\n",
    "        return f\"{self.mascot}\"\n",
    "\n",
    "    def __repr__(self):\n",
    "        return f\"<{self.status_icon}{self.territory} corps, {self.mascot} Brigade: {self.size} Troop/s >\"\n",
    "\n",
    "        # return f\"{game_data.colors[\"text_color\"][self.player.color]}<{self.player}'s {self.territory} Brigade: {self.size} Troop/s >{game_data.colors[\"text_color\"][\"reset\"]}\"\n",
    "\n",
    "\n",
    "class Army:\n",
    "\n",
    "    def __init__(self, player):\n",
    "        self.brigades = []\n",
    "        self.brigades_lost = []\n",
    "        self.general = player\n",
    "\n",
    "    def total_troops(self):\n",
    "        count = 0\n",
    "        for brigade in self.brigades:\n",
    "            count += brigade.size\n",
    "        return count\n",
    "\n",
    "    def merge_brigade(self, disbanding_brigade: Brigade, final_brigade):\n",
    "        final_brigade.size += disbanding_brigade.size\n",
    "        del disbanding_brigade\n",
    "        return final_brigade\n",
    "\n",
    "\n",
    "class Player:\n",
    "\n",
    "    def __init__(self, engine, name, color, symbol: str = None):\n",
    "        self.engine = engine\n",
    "        self.name = name\n",
    "        self.player_number = None\n",
    "        self.symbol = game_data.emojis[symbol]\n",
    "        self.color = color\n",
    "        self.army = None\n",
    "        self.unallocated_troops = 0\n",
    "        self.territories = []\n",
    "        self.cards = []\n",
    "\n",
    "    def __str__(self):\n",
    "        return self.name\n",
    "\n",
    "    def __repr__(self):\n",
    "        return f\"<{self.name}>\"\n",
    "\n",
    "    def attack(self, attacking_territory: Territory, defending_territory: Territory, troops: int):\n",
    "        attack = True\n",
    "        while attack:\n",
    "            attacking_brigade = attacking_territory.garrison.split(troops)\n",
    "            attacking_brigade.status_icon = game_data.emojis[\"battle\"]\n",
    "            self.army.brigades.append(attacking_brigade)\n",
    "            attacking_troop_size = attacking_brigade.size\n",
    "            defending_brigade = defending_territory.garrison\n",
    "            defending_troop_size = defending_brigade.size\n",
    "            defending_brigade.status_icon = game_data.emojis[\"defend\"]\n",
    "            if attacking_troop_size <= 0:\n",
    "                raise ValueError(\"No more troops sir!\")\n",
    "            else:\n",
    "                attacker_losses, defender_losses = battle_dice.battle(attacking_troop_size, defending_troop_size)\n",
    "                attacking_brigade.take_casualties(attacker_losses)\n",
    "                defending_brigade.take_casualties(defender_losses)\n",
    "                if defending_brigade.size <= 0:\n",
    "                    print(\"DEFENDING TROOPS DEFEATED\")\n",
    "                    attacking_brigade.territory = defending_territory\n",
    "                    defending_territory.garrison = attacking_brigade\n",
    "                    self.engine.kill(defending_brigade)\n",
    "                if attacking_brigade.size <= 0:\n",
    "                    print(\"Attacking TROOPS DEFEATED\")\n",
    "                    self.engine.kill(attacking_brigade)\n",
    "             \n",
    "            result_string = f\"{attacking_territory.name} attacked {defending_territory.name}, attackers sustained {attacker_losses} casualties, defenders sustained {defender_losses} Attacker has {attacking_brigade.size} troops left, defender has {defending_brigade.size} troops.\"\n",
    "        attack_again  = input(f\"{result_string} attack againt?\" )\n",
    "        if attack_again == \"n\":\n",
    "            attack = False\n",
    "        elif attack_again == \"r\":\n",
    "            self.army.merge(attacking_brigade,attacking_territory.garrison)\n",
    "            attack = False\n",
    "            print(f\"{attacking_brigade} retreated with {attacking_brigade.size} troops\")\n",
    "        return [attacking_brigade.size, defending_brigade.size, attacker_losses, defender_losses, result_string]\n",
    "\n",
    "    def inventory(self):\n",
    "        occupied_territories = [brigade.territory for brigade in self.army.brigades]\n",
    "        self.territories = occupied_territories\n",
    "        troops = self.unallocated_troops\n",
    "        return f\"{self.name}'s Inventory: {troops} Troops, {len(self.cards)} Cards, {len(self.territories)} Territories\"\n",
    "\n",
    "    # def get_territories(self):\n",
    "    #     for brigade in self.army.brigades:\n",
    "    #         controlled_territories = brigade.territory\n",
    "    #         self.territories.append(controlled_territories)\n",
    "    #     return self.territories\n",
    "    def attack_options(self):\n",
    "        target_options = []\n",
    "        for territory in self.territories:\n",
    "            for target_territory in territory.connections:\n",
    "                # print(f\"{target_territory=}\")\n",
    "                # print(f\"who? {target_territory.occupied_by=}\")\n",
    "                if target_territory.occupied_by != self:\n",
    "                    # print(f\"From: {territory}->{target_territory} occupied by {target_territory.occupied_by} is a valid target\")\n",
    "                    target_options.append((territory.name, target_territory))\n",
    "                # else:\n",
    "                    # print(f\"From: {territory}->{target_territory} occupied by {target_territory.occupied_by} is NOT a valid target\")\n",
    "\n",
    "        self.target_options = target_options\n",
    "        return self.target_options\n",
    "\n",
    "    # def kill(self,brigade_name: str):\n",
    "    #     self.\n",
    "    #      brigade_object = getattr(self.gamap, brigade_name)\n",
    "\n",
    "\n",
    "class GameEngine:\n",
    "    \"\"\"World Map object that contains territory objects\"\"\"\n",
    "\n",
    "    def __init__(self):\n",
    "        self.players = {}\n",
    "        self.all_brigades = {}\n",
    "        self.dead_brigades = {}\n",
    "        self.board = {}\n",
    "        self.brigade_names = []\n",
    "        self.map = Map()\n",
    "        self._build_map()\n",
    "        self._resolve_connections()\n",
    "        self.number_of_players = 0\n",
    "        deck.shuffle_deck()\n",
    "\n",
    "    def _build_map(self):\n",
    "        for territory_name in game_data.territories.keys():\n",
    "            continent = game_data.territories[territory_name][\"continent\"]\n",
    "            self.map.connections = game_data.connections\n",
    "            color = game_data.continents[continent][\"color\"]\n",
    "            # 🌍 Create Territory Object --\n",
    "            territory_object = Territory(territory_name, continent, color)\n",
    "            self.map.territories[territory_name] = territory_object\n",
    "            setattr(self.map, territory_name, territory_object)\n",
    "            self.map.continents = game_data.continents\n",
    "\n",
    "    def name_brigade(self):\n",
    "        \"\"\"Generates a random name for a brigade, and check if the brigade name already exists\"\"\"\n",
    "        name = brigade_name()\n",
    "        while name in self.brigade_names:\n",
    "            name = brigade_name()\n",
    "        self.brigade_names.append(name)\n",
    "        return name\n",
    "\n",
    "    def _resolve_territory(self, territory: str) -> Territory:\n",
    "        \"\"\" get territory object from territory string\n",
    "        :return:\n",
    "        \"\"\"\n",
    "        territory_object = getattr(self.map, territory)\n",
    "        return territory_object\n",
    "\n",
    "    def _resolve_connections(self):\n",
    "        \"\"\" Changes list of connected territories from a list of strings\n",
    "        to a list of objects\n",
    "        :return:\n",
    "        \"\"\"\n",
    "        for territory in game_data.connections.keys():\n",
    "            neighbors = game_data.connections[territory]\n",
    "            # print(f\"{territory} has neighrbors: {neighbors=}\")\n",
    "            for n, neighbor in enumerate(neighbors):\n",
    "                # print(f\"{getattr(self.map, territory)} has neighrbor: {neighbor=}\")\n",
    "                self.map.connections[territory][n] = getattr(self.map, neighbor)\n",
    "\n",
    "            setattr(self.map.territories[territory], \"connections\", self.map.connections[territory])\n",
    "\n",
    "    def _resolve_territories(self):\n",
    "        for player_string in self.players.keys():\n",
    "            player_object = self.players[player_string]\n",
    "            for n, territory_string in enumerate(player_object.territories):\n",
    "                player_object.territories[n] = getattr(self.map, territory_string)\n",
    "                player_object.territories[n].who()\n",
    "\n",
    "    def create_player(self, engine, player_name: str, player_color: str, symbol: str = None):\n",
    "        player_object = Player(engine, player_name, player_color, symbol)\n",
    "        self.players[player_name] = player_object\n",
    "        setattr(self, player_name, player_object)\n",
    "        self.number_of_players += 1\n",
    "        player_object.player_number = self.number_of_players\n",
    "        return player_object\n",
    "\n",
    "    def kill(self, brigade_object: Brigade):\n",
    "        brigade_object.die()\n",
    "        dead_index = brigade_object.commander.army.brigades.index(brigade_object)\n",
    "        self.dead_brigades[brigade_object.mascot] = brigade_object.commander.army.brigades.pop(dead_index)\n",
    "        return self\n",
    "\n",
    "    def initialize_players(self, cards: int = 13):\n",
    "\n",
    "        number_of_players = len(self.players)\n",
    "        troops = game_data.get_player_rules(number_of_players)[\"initial_troops\"]\n",
    "        card_number = game_data.get_player_rules(number_of_players)[\"initial_cards\"]\n",
    "        neutral_players = game_data.get_player_rules(number_of_players)[\"neutral_players\"]\n",
    "        if int(neutral_players) > 0:\n",
    "            self.create_player(self, \"neutral_players\", \"purple\", \"peasant\")\n",
    "        for player_name in self.players.keys():\n",
    "            # Get player object\n",
    "            player_object = self.players[player_name]\n",
    "            # print(f\"{player_object.cards=}\")\n",
    "            # initialize with 40 troops\n",
    "            setattr(player_object, \"unallocated_troops\", troops)\n",
    "            # initialize Army object and assign to player object\n",
    "            setattr(player_object, \"army\", Army(player_object))\n",
    "            # Deal cards to player based on number of players\n",
    "            if number_of_players == 2:\n",
    "                player_object.cards.extend(deck.deal_cards(card_number))\n",
    "            for card_object in player_object.cards:\n",
    "                # print(f\">M{player_object.cards=}\")\n",
    "                # print(f\"{card_object} {player_object}\")\n",
    "                territory = card_object.territory\n",
    "                player_object.territories.append(card_object.territory)\n",
    "                mascot = self.name_brigade()\n",
    "                new_brigade = Brigade(1, mascot, player_object, self._resolve_territory(territory))\n",
    "                player_object.army.brigades.append(new_brigade)\n",
    "                # print(f\">Brigades: {player_object.army.brigades=}\")\n",
    "                self.map.territories[territory].garrison = new_brigade\n",
    "                self.map.territories[territory].garrison.occupied_by = player_object\n",
    "            # for brigade in player_object.army.brigades:\n",
    "            #     # print(f\"{brigade.territory=}\")\n",
    "\n",
    "            deck.discard(player_object.cards)\n",
    "            # player_object.get_territories()\n",
    "        self._resolve_territories()\n",
    "        self.set_board()\n",
    "        return player_object\n",
    "\n",
    "    def place_troops(self, territory: str, troops: int):\n",
    "        self.map.territories[territory].garrison.reinforce(troops)\n",
    "        return self.map.territories[territory].garrison\n",
    "\n",
    "    def is_connected(self, territory1: Territory, territory2: Territory):\n",
    "        if territory2 in territory1.connections:\n",
    "            return True\n",
    "        else:\n",
    "            return False\n",
    "\n",
    "    def is_connected_str(self, territory1: str, territory2: str):\n",
    "        territory1 = self.territories[territory1]\n",
    "        territory2 = self.territories[territory2]\n",
    "        if territory2 in territory1.connections:\n",
    "            return True\n",
    "        else:\n",
    "            return False\n",
    "\n",
    "    def set_board(self):\n",
    "        for territory in self.map.territories.keys():\n",
    "            # print(f\"{self.map.territories[territory].who().occupied_by}\")\n",
    "            if self.map.territories[territory].garrison:\n",
    "                occupier = self.map.territories[territory].garrison.commander\n",
    "                # territory = self._resolve_territory(territory)\n",
    "                self.board[territory] = occupier\n",
    "            else:\n",
    "                pass\n",
    "            # print(f\"{territory} occupied by {self.map.territories[territory].who().occupied_by}\")\n",
    "\n",
    "    def __iter__(self):\n",
    "        for territory in self.game_data.index.values:\n",
    "            yield getattr(self, territory)\n",
    "\n",
    "\n",
    "class TurnManager(GameEngine):\n",
    "\n",
    "    def __init__(self):\n",
    "        super().__init__()\n",
    "        self.turn_count = 0\n",
    "\n",
    "\n",
    "if __name__ == \"__main__\":\n",
    "    ## Test GameEngine Class\n",
    "\n",
    "    game_engine = GameEngine()\n",
    "    # print(f\"{game_engine.map.connections[\"alaska\"]}\")\n",
    "\n",
    "    game_engine.create_player(game_engine, \"John\", \"red\", \"wizard\")\n",
    "    game_engine.create_player(game_engine, \"Jack\", \"blue\", \"spider\")\n",
    "\n",
    "    game_engine.initialize_players()\n",
    "    # print(f\"{game_engine.John.territories=}\")\n",
    "    # print(f\"{game_engine.Jack.territories=}\")\n",
    "    # print(f\"{game_engine.John.inventory()}\")\n",
    "    # # print(f\"{game_engine.Jack.inventory()}\")\n",
    "    # print(f\"{game_engine.John.army.brigades}\")\n",
    "    print(f\"{game_engine.John.attack_options()=}\")\n",
    "\n",
    "    # print(game_engine.map.territories[game_engine.John.territories[0]].garrison)\n",
    "game = True\n",
    "# while game:\n",
    "#     print(game_engine.board)\n",
    "#     command = input(\"what do you want to do?\")\n",
    "#     exec(command)\n"
   ],
   "id": "ea6d9239a1ef2b80",
   "outputs": [
    {
     "name": "stdout",
     "output_type": "stream",
     "text": [
      "game_engine.John.attack_options()=[('china', <Territory Object:afghanistan>), ('china', <Territory Object:siberia>), ('china', <Territory Object:mongolia>), ('china', <Territory Object:siam>), ('china', <Territory Object:india>), ('great_britain', <Territory Object:iceland>), ('madagascar', <Territory Object:east_africa>), ('madagascar', <Territory Object:south_africa>), ('north_africa', <Territory Object:southern_europe>), ('north_africa', <Territory Object:east_africa>), ('scandinavia', <Territory Object:iceland>), ('greenland', <Territory Object:northwest_territory>), ('greenland', <Territory Object:quebec>), ('greenland', <Territory Object:iceland>), ('congo', <Territory Object:east_africa>), ('congo', <Territory Object:south_africa>), ('ontario', <Territory Object:northwest_territory>), ('ontario', <Territory Object:alberta>), ('ontario', <Territory Object:western_united_states>), ('ontario', <Territory Object:eastern_united_states>), ('ontario', <Territory Object:quebec>), ('ural', <Territory Object:siberia>), ('ural', <Territory Object:afghanistan>), ('russia', <Territory Object:southern_europe>), ('russia', <Territory Object:afghanistan>), ('russia', <Territory Object:middle_east>), ('egypt', <Territory Object:southern_europe>), ('egypt', <Territory Object:middle_east>), ('egypt', <Territory Object:east_africa>), ('western_europe', <Territory Object:southern_europe>), ('northern_europe', <Territory Object:southern_europe>), ('brazil', <Territory Object:venezuela>), ('brazil', <Territory Object:peru>), ('brazil', <Territory Object:argentina>)]\n"
     ]
    }
   ],
   "execution_count": 1
  },
  {
   "metadata": {
    "ExecuteTime": {
     "end_time": "2025-03-28T19:24:10.749543Z",
     "start_time": "2025-03-28T19:24:10.737347Z"
    }
   },
   "cell_type": "code",
   "source": [
    "game_engine.John.target_options\n",
    "# print(target_options)\n",
    "# target_options[\"alaska\"]\n",
    "attacker = game_engine.John.target_options[0][0]\n",
    "defender = game_engine.John.target_options[0][1].name\n",
    "print(f\"{attacker} {defender}\")"
   ],
   "id": "503e8a9b40e0db54",
   "outputs": [
    {
     "name": "stdout",
     "output_type": "stream",
     "text": [
      "china afghanistan\n"
     ]
    }
   ],
   "execution_count": 2
  },
  {
   "metadata": {
    "ExecuteTime": {
     "end_time": "2025-03-28T19:25:33.385304Z",
     "start_time": "2025-03-28T19:25:33.372761Z"
    }
   },
   "cell_type": "code",
   "source": [
    "attack = game_engine.map.territories[attacker]\n",
    "defend = game_engine.map.territories[defender]\n",
    "# game_engine.John.attack(attack,defend,3)\n",
    "# game_engine.John.army.brigades\n",
    "print(game_engine.John.inventory())\n",
    "print(game_engine.Jack.inventory())\n",
    "print(f\"{game_engine.John.army.brigades[0]}\")\n",
    "print(f\"{game_engine.John.army.brigades[0].territory}\")\n",
    "game_engine.map.territories[attacker].garrison.reinforce(4)\n",
    "print(f\"{game_engine.map.territories[attacker].garrison.size}\")\n",
    "print(game_engine.John.inventory())"
   ],
   "id": "4498abdead12e782",
   "outputs": [
    {
     "name": "stdout",
     "output_type": "stream",
     "text": [
      "John's Inventory: 40 Troops, 0 Cards, 15 Territories\n",
      "Jack's Inventory: 40 Troops, 0 Cards, 14 Territories\n",
      "Fearsome Legion\n",
      "China Territory\n",
      "53\n",
      "John's Inventory: 40 Troops, 0 Cards, 15 Territories\n"
     ]
    }
   ],
   "execution_count": 18
  },
  {
   "metadata": {
    "ExecuteTime": {
     "end_time": "2025-03-28T19:24:16.965571Z",
     "start_time": "2025-03-28T19:24:16.960790Z"
    }
   },
   "cell_type": "code",
   "source": "print(f\"{list(game_engine.John.army.brigades)}\")",
   "id": "b1d3911f0791d369",
   "outputs": [
    {
     "name": "stdout",
     "output_type": "stream",
     "text": [
      "[<💂‍China Territory corps, Fearsome Legion Brigade: 5 Troop/s >, <💂‍Great Britain Territory corps, Black Marauders Brigade: 1 Troop/s >, <💂‍Madagascar Territory corps, Thunder Foxes Brigade: 1 Troop/s >, <💂‍North Africa Territory corps, Ruthless Wolves Brigade: 1 Troop/s >, <💂‍Scandinavia Territory corps, Screaming Snakes Brigade: 1 Troop/s >, <💂‍Greenland Territory corps, Vicious Division Brigade: 1 Troop/s >, <💂‍Congo Territory corps, Bloodthirsty Cobras Brigade: 1 Troop/s >, <💂‍Ontario Territory corps, Screaming Raiders Brigade: 1 Troop/s >, <💂‍Ural Territory corps, Fighting Warriors Brigade: 1 Troop/s >, <💂‍Russia Territory corps, Crimson Cobras Brigade: 1 Troop/s >, <💂‍Egypt Territory corps, Iron Panthers Brigade: 1 Troop/s >, <💂‍Western Europe Territory corps, Feral Claws Brigade: 1 Troop/s >, <💂‍Northern Europe Territory corps, Feral Shadows Brigade: 1 Troop/s >, <💂‍Brazil Territory corps, Merciless Dragons Brigade: 1 Troop/s >]\n"
     ]
    }
   ],
   "execution_count": 4
  },
  {
   "metadata": {
    "ExecuteTime": {
     "end_time": "2025-03-28T19:24:22.474814Z",
     "start_time": "2025-03-28T19:24:21.240693Z"
    }
   },
   "cell_type": "code",
   "source": [
    "\n",
    "attackers,defenders,attacker_losses,defender_losses,result_string = game_engine.John.attack(attack,defend,4)\n",
    "print(result_string)\n",
    "battle_dice.display_results()"
   ],
   "id": "66a3cd7ded1f56e0",
   "outputs": [
    {
     "ename": "ValueError",
     "evalue": "Cannot detach that many troops, maximum detachment size is 0",
     "output_type": "error",
     "traceback": [
      "\u001B[31m---------------------------------------------------------------------------\u001B[39m",
      "\u001B[31mValueError\u001B[39m                                Traceback (most recent call last)",
      "\u001B[36mCell\u001B[39m\u001B[36m \u001B[39m\u001B[32mIn[5]\u001B[39m\u001B[32m, line 1\u001B[39m\n\u001B[32m----> \u001B[39m\u001B[32m1\u001B[39m attackers,defenders,attacker_losses,defender_losses,result_string = \u001B[43mgame_engine\u001B[49m\u001B[43m.\u001B[49m\u001B[43mJohn\u001B[49m\u001B[43m.\u001B[49m\u001B[43mattack\u001B[49m\u001B[43m(\u001B[49m\u001B[43mattack\u001B[49m\u001B[43m,\u001B[49m\u001B[43mdefend\u001B[49m\u001B[43m,\u001B[49m\u001B[32;43m4\u001B[39;49m\u001B[43m)\u001B[49m\n\u001B[32m      2\u001B[39m \u001B[38;5;28mprint\u001B[39m(result_string)\n\u001B[32m      3\u001B[39m battle_dice.display_results()\n",
      "\u001B[36mCell\u001B[39m\u001B[36m \u001B[39m\u001B[32mIn[1]\u001B[39m\u001B[32m, line 161\u001B[39m, in \u001B[36mPlayer.attack\u001B[39m\u001B[34m(self, attacking_territory, defending_territory, troops)\u001B[39m\n\u001B[32m    159\u001B[39m attack = \u001B[38;5;28;01mTrue\u001B[39;00m\n\u001B[32m    160\u001B[39m \u001B[38;5;28;01mwhile\u001B[39;00m attack:\n\u001B[32m--> \u001B[39m\u001B[32m161\u001B[39m     attacking_brigade = \u001B[43mattacking_territory\u001B[49m\u001B[43m.\u001B[49m\u001B[43mgarrison\u001B[49m\u001B[43m.\u001B[49m\u001B[43msplit\u001B[49m\u001B[43m(\u001B[49m\u001B[43mtroops\u001B[49m\u001B[43m)\u001B[49m\n\u001B[32m    162\u001B[39m     attacking_brigade.status_icon = game_data.emojis[\u001B[33m\"\u001B[39m\u001B[33mbattle\u001B[39m\u001B[33m\"\u001B[39m]\n\u001B[32m    163\u001B[39m     \u001B[38;5;28mself\u001B[39m.army.brigades.append(attacking_brigade)\n",
      "\u001B[36mCell\u001B[39m\u001B[36m \u001B[39m\u001B[32mIn[1]\u001B[39m\u001B[32m, line 96\u001B[39m, in \u001B[36mBrigade.split\u001B[39m\u001B[34m(self, detachment)\u001B[39m\n\u001B[32m     94\u001B[39m     \u001B[38;5;28;01mreturn\u001B[39;00m attack_brigade\n\u001B[32m     95\u001B[39m \u001B[38;5;28;01melse\u001B[39;00m:\n\u001B[32m---> \u001B[39m\u001B[32m96\u001B[39m     \u001B[38;5;28;01mraise\u001B[39;00m \u001B[38;5;167;01mValueError\u001B[39;00m(\u001B[33mf\u001B[39m\u001B[33m\"\u001B[39m\u001B[33mCannot detach that many troops, maximum detachment size is \u001B[39m\u001B[38;5;132;01m{\u001B[39;00mmax_det\u001B[38;5;132;01m}\u001B[39;00m\u001B[33m\"\u001B[39m)\n",
      "\u001B[31mValueError\u001B[39m: Cannot detach that many troops, maximum detachment size is 0"
     ]
    }
   ],
   "execution_count": 5
  },
  {
   "metadata": {
    "ExecuteTime": {
     "end_time": "2025-03-28T03:04:26.234802Z",
     "start_time": "2025-03-28T03:04:26.231295Z"
    }
   },
   "cell_type": "code",
   "source": [
    "print(result_string)\n",
    "battle_dice.display_results()\n",
    "print(game_engine.John.inventory())\n",
    "print(f\"{game_engine.John.army.brigades[0].territory}\")"
   ],
   "id": "e971964f730943a0",
   "outputs": [
    {
     "name": "stdout",
     "output_type": "stream",
     "text": [
      "scandinavia attacked northern_europe, attackers sustained 0 casualties, defenders sustained 1 Attacker has 4 troops left, defender has 0 troops.\n",
      "🎲\u001B[1m\u001B[38;2;255;255;255m\u001B[48;2;255;0;0m[4][3][1]\u001B[0m\n",
      "🎲\u001B[1m\u001B[38;2;255;255;255m\u001B[48;2;0;0;255m[1]\u001B[0m\n",
      "John's Inventory: 40 Troops, 0 Cards, 15 Territories\n",
      "Scandinavia Territory\n"
     ]
    }
   ],
   "execution_count": 6
  },
  {
   "metadata": {},
   "cell_type": "markdown",
   "source": "",
   "id": "d30d1622eb04e617"
  },
  {
   "metadata": {
    "ExecuteTime": {
     "end_time": "2025-03-28T02:17:13.531232Z",
     "start_time": "2025-03-28T02:17:13.525189Z"
    }
   },
   "cell_type": "code",
   "source": [
    "\n",
    "game_engine.map.territories[defender].garrison"
   ],
   "id": "723289aee37fa881",
   "outputs": [
    {
     "data": {
      "text/plain": [
       "<East Africa Territory corps, 2 Company, Rabid Cobras Brigade Brigade: 4 Troop/s >"
      ]
     },
     "execution_count": 13,
     "metadata": {},
     "output_type": "execute_result"
    }
   ],
   "execution_count": 13
  },
  {
   "metadata": {
    "ExecuteTime": {
     "end_time": "2025-03-28T02:12:30.375345Z",
     "start_time": "2025-03-28T02:12:30.372312Z"
    }
   },
   "cell_type": "code",
   "source": "print(game_engine.Jack.player_number)",
   "id": "7de090c9952b6f93",
   "outputs": [
    {
     "name": "stdout",
     "output_type": "stream",
     "text": [
      "2\n"
     ]
    }
   ],
   "execution_count": 12
  },
  {
   "metadata": {
    "ExecuteTime": {
     "end_time": "2025-03-28T03:04:38.567234Z",
     "start_time": "2025-03-28T03:04:38.562116Z"
    }
   },
   "cell_type": "code",
   "source": [
    "\n",
    "game_engine.dead_brigades"
   ],
   "id": "63fda265e04bc2b9",
   "outputs": [
    {
     "data": {
      "text/plain": [
       "{'Savage Killers': <💀None corps, Savage Killers Brigade: 0 Troop/s >}"
      ]
     },
     "execution_count": 7,
     "metadata": {},
     "output_type": "execute_result"
    }
   ],
   "execution_count": 7
  },
  {
   "metadata": {},
   "cell_type": "markdown",
   "source": "",
   "id": "10d4ef774e96da58"
  },
  {
   "metadata": {
    "ExecuteTime": {
     "end_time": "2025-03-28T03:04:49.675366Z",
     "start_time": "2025-03-28T03:04:49.672448Z"
    }
   },
   "cell_type": "code",
   "source": "print(game_engine.Jack.inventory())",
   "id": "9fdf4822caca1967",
   "outputs": [
    {
     "name": "stdout",
     "output_type": "stream",
     "text": [
      "Jack's Inventory: 40 Troops, 0 Cards, 13 Territories\n"
     ]
    }
   ],
   "execution_count": 8
  },
  {
   "metadata": {
    "ExecuteTime": {
     "end_time": "2025-03-28T03:04:55.301700Z",
     "start_time": "2025-03-28T03:04:55.298266Z"
    }
   },
   "cell_type": "code",
   "source": [
    "territories_owned =[brigade.territory for brigade in game_engine.Jack.army.brigades]\n",
    "\n",
    "print(game_engine.Jack.army.brigades)\n",
    "    "
   ],
   "id": "45e25a7b13cb8cf4",
   "outputs": [
    {
     "name": "stdout",
     "output_type": "stream",
     "text": [
      "[<💂‍Mongolia Territory corps, Rough Cobras Brigade: 1 Troop/s >, <💂‍Congo Territory corps, Blazing Predators Brigade: 1 Troop/s >, <💂‍Western United States Territory corps, Screaming Marauders Brigade: 1 Troop/s >, <💂‍Peru Territory corps, Brutal Hounds Brigade: 1 Troop/s >, <💂‍Southern Europe Territory corps, Crimson Rhinos Brigade: 1 Troop/s >, <💂‍North Africa Territory corps, Rough Killers Brigade: 1 Troop/s >, <💂‍Indonesia Territory corps, Merciless Vultures Brigade: 1 Troop/s >, <💂‍India Territory corps, Thunder Cobras Brigade: 1 Troop/s >, <💂‍Eastern United States Territory corps, Fighting Tigers Brigade: 1 Troop/s >, <💂‍Central America Territory corps, Rough Rhinos Brigade: 1 Troop/s >, <💂‍Yakutsk Territory corps, Iron Company Brigade: 1 Troop/s >, <💂‍Alberta Territory corps, Bloodthirsty Rhinos Brigade: 1 Troop/s >, <💂‍Afghanistan Territory corps, Death Rhinos Brigade: 1 Troop/s >]\n"
     ]
    }
   ],
   "execution_count": 9
  },
  {
   "metadata": {},
   "cell_type": "code",
   "outputs": [],
   "execution_count": null,
   "source": "",
   "id": "ae4c83feeadd5757"
  }
 ],
 "metadata": {
  "kernelspec": {
   "display_name": "Python 3",
   "language": "python",
   "name": "python3"
  },
  "language_info": {
   "codemirror_mode": {
    "name": "ipython",
    "version": 2
   },
   "file_extension": ".py",
   "mimetype": "text/x-python",
   "name": "python",
   "nbconvert_exporter": "python",
   "pygments_lexer": "ipython2",
   "version": "2.7.6"
  }
 },
 "nbformat": 4,
 "nbformat_minor": 5
}
